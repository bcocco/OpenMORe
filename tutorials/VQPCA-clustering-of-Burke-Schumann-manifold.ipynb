{
 "cells": [
  {
   "cell_type": "markdown",
   "metadata": {},
   "source": [
    "# VQPCA clustering of the Burke-Schumann manifold\n",
    "\n",
    "In this notebook we run VQPCA clustering algorithm on a Burke-Schumann manifold for burning methane in air."
   ]
  },
  {
   "cell_type": "code",
   "execution_count": 1,
   "metadata": {},
   "outputs": [],
   "source": [
    "import numpy as np\n",
    "import pandas as pd\n",
    "\n",
    "# Import pyMORe modules:\n",
    "import pyMORe.clustering as clustering\n",
    "import pyMORe.utilities as utilities\n",
    "import pyMORe.model_order_reduction as model_order_reduction\n",
    "import matplotlib\n",
    "import matplotlib.pyplot as plt\n",
    "\n",
    "# Import plotting modules:\n",
    "import plotting.manifolds"
   ]
  },
  {
   "cell_type": "markdown",
   "metadata": {},
   "source": [
    "Import Burke-Schumann data set:"
   ]
  },
  {
   "cell_type": "code",
   "execution_count": 2,
   "metadata": {},
   "outputs": [
    {
     "name": "stdout",
     "output_type": "stream",
     "text": [
      "(1000000, 5)\n"
     ]
    }
   ],
   "source": [
    "X_BS = pd.read_csv('/Users/kamilazdybal/GitLab-Multiscale-Utah/manifolds-analysis/raw_data_BS_1000000/X_BS_1000000_snrinf.csv', sep = ',', header=None).to_numpy()\n",
    "Z = pd.read_csv('/Users/kamilazdybal/GitLab-Multiscale-Utah/manifolds-analysis/Z_1000000.csv', sep = ',', header=None).to_numpy()\n",
    "X_BS = X_BS[:,0:-1]\n",
    "print(np.shape(X_BS))"
   ]
  },
  {
   "cell_type": "markdown",
   "metadata": {},
   "source": [
    "Run VQPCA partitioning:"
   ]
  },
  {
   "cell_type": "code",
   "execution_count": 3,
   "metadata": {},
   "outputs": [
    {
     "name": "stdout",
     "output_type": "stream",
     "text": [
      "Preprocessing training matrix..\n",
      "Fitting Local PCA model...\n",
      "- Iteration number: 1\n",
      "\tReconstruction error: 1.1445613777844768\n",
      "\tReconstruction error variance: 0.12630286203113353\n",
      "- Iteration number: 2\n",
      "\tReconstruction error: 4.307615300585804e-11\n",
      "\tReconstruction error variance: 26570649834.625404\n",
      "- Iteration number: 3\n",
      "\tReconstruction error: 3.497361627021049e-20\n",
      "\tReconstruction error variance: 1231675690.5569253\n",
      "WARNING:\n",
      "\tAn empty cluster was found:\n",
      "\tThe number of cluster was lowered to ensure statistically meaningful results.\n",
      "\tThe current number of clusters is equal to: 1\n",
      "- Iteration number: 4\n",
      "\tReconstruction error: 9.325884884240402e-26\n",
      "\tReconstruction error variance: 375015.59847111773\n",
      "- Iteration number: 5\n",
      "\tReconstruction error: 9.325884884240402e-26\n",
      "\tReconstruction error variance: 1e-16\n",
      "Convergence reached in 4 iterations.\n"
     ]
    },
    {
     "data": {
      "image/png": "[encoded data removed]",
      "text/plain": [
       "<Figure size 432x288 with 1 Axes>"
      ]
     },
     "metadata": {
      "needs_background": "light"
     },
     "output_type": "display_data"
    }
   ],
   "source": [
    "settings = {\n",
    "    \"center\"                    : True,\n",
    "    \"centering_method\"          : \"mean\",\n",
    "    \"scale\"                     : True,\n",
    "    \"scaling_method\"            : \"auto\",\n",
    "\n",
    "    \"number_of_clusters\"        : 3,\n",
    "    \"number_of_eigenvectors\"    : 1,\n",
    "\n",
    "    \"adaptive_PCs\"              : False,\n",
    "    \"correction_factor\"         : \"off\",\n",
    "                                        \n",
    "    \"initialization_method\"     : \"random\",\n",
    "    \"classify\"                  : False,\n",
    "    \"write_on_txt\"              : False,\n",
    "    \"evaluate_clustering\"       : True,\n",
    "}\n",
    "\n",
    "model = clustering.lpca(X_BS, settings)\n",
    "\n",
    "idx = model.fit()"
   ]
  },
  {
   "cell_type": "code",
   "execution_count": 4,
   "metadata": {},
   "outputs": [
    {
     "name": "stderr",
     "output_type": "stream",
     "text": [
      "'c' argument looks like a single numeric RGB or RGBA sequence, which should be avoided as value-mapping will have precedence in case its length matches with 'x' & 'y'.  Please use a 2-D array with a single row if you really want to specify the same RGB or RGBA value for all points.\n",
      "'c' argument looks like a single numeric RGB or RGBA sequence, which should be avoided as value-mapping will have precedence in case its length matches with 'x' & 'y'.  Please use a 2-D array with a single row if you really want to specify the same RGB or RGBA value for all points.\n"
     ]
    },
    {
     "data": {
      "image/png": "[encoded data removed]",
      "text/plain": [
       "<Figure size 648x360 with 1 Axes>"
      ]
     },
     "metadata": {
      "needs_background": "light"
     },
     "output_type": "display_data"
    }
   ],
   "source": [
    "plotting.manifolds.plot_2d_manifold_clustering(Z[:,0], X_BS[:,0], idx, x_name='Mixture fraction [-]', y_name='T [K]')"
   ]
  },
  {
   "cell_type": "code",
   "execution_count": null,
   "metadata": {},
   "outputs": [],
   "source": []
  }
 ],
 "metadata": {
  "kernelspec": {
   "display_name": "Python 3",
   "language": "python",
   "name": "python3"
  },
  "language_info": {
   "codemirror_mode": {
    "name": "ipython",
    "version": 3
   },
   "file_extension": ".py",
   "mimetype": "text/x-python",
   "name": "python",
   "nbconvert_exporter": "python",
   "pygments_lexer": "ipython3",
   "version": "3.7.6"
  }
 },
 "nbformat": 4,
 "nbformat_minor": 4
}
